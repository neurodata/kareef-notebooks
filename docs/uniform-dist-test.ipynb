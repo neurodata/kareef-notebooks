{
 "cells": [
  {
   "cell_type": "markdown",
   "metadata": {},
   "source": [
    "# Uniform Distribution Test"
   ]
  },
  {
   "cell_type": "code",
   "execution_count": null,
   "metadata": {},
   "outputs": [],
   "source": [
    "import numpy as np\n",
    "import pandas as pd\n",
    "import seaborn as sns\n",
    "import matplotlib.pyplot as plt\n",
    "from scipy.sparse import csr_matrix\n",
    "from graspologic.models import EdgeSwapper\n",
    "from graspologic.simulations import er_np\n",
    "from graspologic.utils import binarize\n",
    "from os.path import dirname, join\n",
    "from pathlib import Path\n",
    "import networkx as nx\n",
    "from networkx import to_numpy_array, from_numpy_array, attribute_assortativity_coefficient, numeric_assortativity_coefficient"
   ]
  },
  {
   "cell_type": "code",
   "execution_count": 10,
   "metadata": {},
   "outputs": [
    {
     "name": "stdout",
     "output_type": "stream",
     "text": [
      "True\n"
     ]
    }
   ],
   "source": [
    "G = nx.path_graph(5)\n",
    "\n",
    "visited_graphs = {}\n",
    "A = nx.to_numpy_array(G)\n",
    "swapper = EdgeSwapper(A)\n",
    "for i in range(0, 10000):\n",
    "    A, edge_list = swapper.swap_edges()\n",
    "    new_G = nx.from_numpy_array(A)\n",
    "    try:\n",
    "        visited_graphs[str(tuple(new_G.edges()))] += 1\n",
    "    \n",
    "    except:\n",
    "        visited_graphs[str(tuple(new_G.edges()))] = 1"
   ]
  },
  {
   "cell_type": "code",
   "execution_count": 11,
   "metadata": {},
   "outputs": [
    {
     "data": {
      "text/plain": [
       "<BarContainer object of 7 artists>"
      ]
     },
     "execution_count": 11,
     "metadata": {},
     "output_type": "execute_result"
    },
    {
     "data": {
      "image/png": "[encoded data removed]",
      "text/plain": [
       "<Figure size 432x288 with 1 Axes>"
      ]
     },
     "metadata": {
      "needs_background": "light"
     },
     "output_type": "display_data"
    }
   ],
   "source": [
    "plt.bar(visited_graphs.keys(), visited_graphs.values(), 2.0, color='g')"
   ]
  },
  {
   "cell_type": "code",
   "execution_count": 12,
   "metadata": {},
   "outputs": [],
   "source": [
    "B = csr_matrix(A)\n",
    "visited_graphs = {}\n",
    "swapped = EdgeSwapper(B)\n",
    "for i in range(0, 10000):\n",
    "    C, edge_list = swapper.swap_edges()\n",
    "    new_G = nx.from_numpy_array(C)\n",
    "    try:\n",
    "        visited_graphs[str(tuple(new_G.edges()))] += 1\n",
    "    \n",
    "    except:\n",
    "        visited_graphs[str(tuple(new_G.edges()))] = 1"
   ]
  },
  {
   "cell_type": "code",
   "execution_count": 13,
   "metadata": {},
   "outputs": [
    {
     "data": {
      "text/plain": [
       "<BarContainer object of 7 artists>"
      ]
     },
     "execution_count": 13,
     "metadata": {},
     "output_type": "execute_result"
    },
    {
     "data": {
      "image/png": "[encoded data removed]",
      "text/plain": [
       "<Figure size 432x288 with 1 Axes>"
      ]
     },
     "metadata": {
      "needs_background": "light"
     },
     "output_type": "display_data"
    }
   ],
   "source": [
    "plt.bar(visited_graphs.keys(), visited_graphs.values(), 2.0, color='b')"
   ]
  },
  {
   "cell_type": "code",
   "execution_count": null,
   "metadata": {},
   "outputs": [],
   "source": []
  }
 ],
 "metadata": {
  "kernelspec": {
   "display_name": "Python 3",
   "language": "python",
   "name": "python3"
  },
  "language_info": {
   "codemirror_mode": {
    "name": "ipython",
    "version": 3
   },
   "file_extension": ".py",
   "mimetype": "text/x-python",
   "name": "python",
   "nbconvert_exporter": "python",
   "pygments_lexer": "ipython3",
   "version": "3.8.4"
  }
 },
 "nbformat": 4,
 "nbformat_minor": 4
}
