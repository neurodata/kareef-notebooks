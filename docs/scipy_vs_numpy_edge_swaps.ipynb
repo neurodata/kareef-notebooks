{
 "cells": [
  {
   "cell_type": "markdown",
   "id": "9b9d94f4",
   "metadata": {},
   "source": [
    "# Comparing different edge swaps"
   ]
  },
  {
   "cell_type": "markdown",
   "id": "8cadd17b",
   "metadata": {},
   "source": [
    "The motivation for this simulation is to compare the speed of two different implementations of degree preseving edge swaps: one using scipy and one using numba"
   ]
  },
  {
   "cell_type": "code",
   "execution_count": 1,
   "id": "21dceb8e",
   "metadata": {},
   "outputs": [],
   "source": [
    "import timeit\n",
    "import numpy as np\n",
    "import pandas as pd\n",
    "import seaborn as sns\n",
    "import matplotlib.pyplot as plt\n",
    "from scipy.sparse import csr_matrix\n",
    "from graspologic.models import EdgeSwapper\n",
    "from graspologic.simulations import er_np"
   ]
  },
  {
   "cell_type": "code",
   "execution_count": 2,
   "id": "b52a747c",
   "metadata": {},
   "outputs": [],
   "source": [
    "n = 1000\n",
    "p = np.log(n)/n"
   ]
  },
  {
   "cell_type": "code",
   "execution_count": 3,
   "id": "5c89270e",
   "metadata": {},
   "outputs": [],
   "source": [
    "#MAKE ER_NP\n",
    "A = er_np(n, p)"
   ]
  },
  {
   "cell_type": "code",
   "execution_count": 4,
   "id": "e5b6a67f",
   "metadata": {},
   "outputs": [],
   "source": [
    "B = csr_matrix(A)"
   ]
  },
  {
   "cell_type": "code",
   "execution_count": 5,
   "id": "a93517ee",
   "metadata": {},
   "outputs": [
    {
     "name": "stdout",
     "output_type": "stream",
     "text": [
      "1.5438105839999992\n"
     ]
    }
   ],
   "source": [
    "start_time = timeit.default_timer()\n",
    "Swapper = EdgeSwapper(A)\n",
    "#1000 swaps\n",
    "Swapper.swap_edges(n_swaps=1000)\n",
    "elapsed_time = timeit.default_timer()-start_time\n",
    "print(elapsed_time)"
   ]
  },
  {
   "cell_type": "code",
   "execution_count": 6,
   "id": "de88f358",
   "metadata": {},
   "outputs": [
    {
     "name": "stdout",
     "output_type": "stream",
     "text": [
      "2.1398356009999997\n"
     ]
    }
   ],
   "source": [
    "start_time = timeit.default_timer()\n",
    "Swapper = EdgeSwapper(B)\n",
    "Swapper.swap_edges(n_swaps=1000)\n",
    "elapsed_time = timeit.default_timer()-start_time\n",
    "print(elapsed_time)"
   ]
  },
  {
   "cell_type": "code",
   "execution_count": null,
   "id": "7925f167",
   "metadata": {},
   "outputs": [],
   "source": []
  }
 ],
 "metadata": {
  "kernelspec": {
   "display_name": "Python 3",
   "language": "python",
   "name": "python3"
  },
  "language_info": {
   "codemirror_mode": {
    "name": "ipython",
    "version": 3
   },
   "file_extension": ".py",
   "mimetype": "text/x-python",
   "name": "python",
   "nbconvert_exporter": "python",
   "pygments_lexer": "ipython3",
   "version": "3.7.9"
  }
 },
 "nbformat": 4,
 "nbformat_minor": 5
}
