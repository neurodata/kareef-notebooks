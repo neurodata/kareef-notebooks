{
 "cells": [
  {
   "cell_type": "markdown",
   "id": "ef094b1f",
   "metadata": {},
   "source": [
    "# Comparing different edge swaps"
   ]
  },
  {
   "cell_type": "markdown",
   "id": "80d48c97",
   "metadata": {},
   "source": [
    "The motivation for this simulation is to compare the speed of two different implementations of degree preseving edge swaps: one using scipy and one using numba"
   ]
  },
  {
   "cell_type": "code",
   "execution_count": 5,
   "id": "c3dbc13f",
   "metadata": {},
   "outputs": [],
   "source": [
    "import timeit\n",
    "import numpy as np\n",
    "import pandas as pd\n",
    "import seaborn as sns\n",
    "import matplotlib.pyplot as plt\n",
    "from scipy.sparse import lil_matrix\n",
    "from graspologic.models import _do_some_edge_swaps\n",
    "from graspologic.simulations import er_np"
   ]
  },
  {
   "cell_type": "code",
   "execution_count": 3,
   "id": "2363590f",
   "metadata": {},
   "outputs": [
    {
     "name": "stdout",
     "output_type": "stream",
     "text": [
      "Collecting numpy==1.20\n",
      "  Downloading numpy-1.20.0-cp37-cp37m-macosx_10_9_x86_64.whl (16.0 MB)\n",
      "\u001b[K     |████████████████████████████████| 16.0 MB 7.0 MB/s eta 0:00:01    |█████████████▊                  | 6.9 MB 7.0 MB/s eta 0:00:02\n",
      "\u001b[?25hInstalling collected packages: numpy\n",
      "  Attempting uninstall: numpy\n",
      "    Found existing installation: numpy 1.18.1\n",
      "    Uninstalling numpy-1.18.1:\n",
      "      Successfully uninstalled numpy-1.18.1\n",
      "Successfully installed numpy-1.20.0\n",
      "Note: you may need to restart the kernel to use updated packages.\n"
     ]
    }
   ],
   "source": [
    "pip install numpy==1.20"
   ]
  },
  {
   "cell_type": "code",
   "execution_count": 6,
   "id": "f76cf1db",
   "metadata": {},
   "outputs": [],
   "source": [
    "n = 1000\n",
    "p = np.log(n)/n\n",
    "num_swaps = 100000"
   ]
  },
  {
   "cell_type": "code",
   "execution_count": 7,
   "id": "fca4691a",
   "metadata": {},
   "outputs": [],
   "source": [
    "#MAKE ER_NP\n",
    "A = er_np(n, p)"
   ]
  },
  {
   "cell_type": "code",
   "execution_count": 8,
   "id": "0bbff0b8",
   "metadata": {},
   "outputs": [],
   "source": [
    "B = lil_matrix(A)"
   ]
  },
  {
   "cell_type": "code",
   "execution_count": 9,
   "id": "3ed507bb",
   "metadata": {},
   "outputs": [
    {
     "name": "stdout",
     "output_type": "stream",
     "text": [
      "1.6236121600000004\n"
     ]
    }
   ],
   "source": [
    "start_time = timeit.default_timer()\n",
    "_do_some_edge_swaps(A)\n",
    "elapsed_time = timeit.default_timer()-start_time\n",
    "print(elapsed_time)"
   ]
  },
  {
   "cell_type": "code",
   "execution_count": 10,
   "id": "16bf96bf",
   "metadata": {},
   "outputs": [
    {
     "name": "stdout",
     "output_type": "stream",
     "text": [
      "0.17495811199999878\n"
     ]
    }
   ],
   "source": [
    "start_time = timeit.default_timer()\n",
    "_do_some_edge_swaps(B)\n",
    "elapsed_time = timeit.default_timer()-start_time\n",
    "print(elapsed_time)"
   ]
  },
  {
   "cell_type": "code",
   "execution_count": null,
   "id": "0402597b",
   "metadata": {},
   "outputs": [],
   "source": []
  }
 ],
 "metadata": {
  "kernelspec": {
   "display_name": "Python 3",
   "language": "python",
   "name": "python3"
  },
  "language_info": {
   "codemirror_mode": {
    "name": "ipython",
    "version": 3
   },
   "file_extension": ".py",
   "mimetype": "text/x-python",
   "name": "python",
   "nbconvert_exporter": "python",
   "pygments_lexer": "ipython3",
   "version": "3.7.9"
  }
 },
 "nbformat": 4,
 "nbformat_minor": 5
}
