{
 "cells": [
  {
   "cell_type": "markdown",
   "id": "ef094b1f",
   "metadata": {},
   "source": [
    "# Comparing different edge swaps"
   ]
  },
  {
   "cell_type": "markdown",
   "id": "80d48c97",
   "metadata": {},
   "source": [
    "The motivation for this simulation is to compare the speed of two different implementations of degree preseving edge swaps: one using scipy and one using numba"
   ]
  },
  {
   "cell_type": "code",
   "execution_count": 1,
   "id": "c3dbc13f",
   "metadata": {},
   "outputs": [
    {
     "name": "stderr",
     "output_type": "stream",
     "text": [
      "/opt/miniconda3/envs/kullah/lib/python3.7/site-packages/gensim/similarities/__init__.py:15: UserWarning: The gensim.similarities.levenshtein submodule is disabled, because the optional Levenshtein package <https://pypi.org/project/python-Levenshtein/> is unavailable. Install Levenhstein (e.g. `pip install python-Levenshtein`) to suppress this warning.\n",
      "  warnings.warn(msg)\n"
     ]
    }
   ],
   "source": [
    "import timeit\n",
    "import numpy as np\n",
    "import pandas as pd\n",
    "import seaborn as sns\n",
    "import matplotlib.pyplot as plt\n",
    "from scipy.sparse import lil_matrix\n",
    "from graspologic.models import EdgeSwap\n",
    "from graspologic.simulations import er_np"
   ]
  },
  {
   "cell_type": "code",
   "execution_count": 2,
   "id": "f76cf1db",
   "metadata": {},
   "outputs": [],
   "source": [
    "n = 1000\n",
    "p = np.log(n)/n\n",
    "num_swaps = 100000"
   ]
  },
  {
   "cell_type": "code",
   "execution_count": 3,
   "id": "fca4691a",
   "metadata": {},
   "outputs": [],
   "source": [
    "#MAKE ER_NP\n",
    "A = er_np(n, p)"
   ]
  },
  {
   "cell_type": "code",
   "execution_count": 4,
   "id": "0bbff0b8",
   "metadata": {},
   "outputs": [],
   "source": [
    "B = lil_matrix(A)"
   ]
  },
  {
   "cell_type": "code",
   "execution_count": 6,
   "id": "3ed507bb",
   "metadata": {},
   "outputs": [
    {
     "name": "stdout",
     "output_type": "stream",
     "text": [
      "2.1165343730000075\n"
     ]
    }
   ],
   "source": [
    "start_time = timeit.default_timer()\n",
    "Swapper = EdgeSwap(A)\n",
    "#1000 swaps\n",
    "Swapper._do_some_edge_swaps()\n",
    "elapsed_time = timeit.default_timer()-start_time\n",
    "print(elapsed_time)"
   ]
  },
  {
   "cell_type": "code",
   "execution_count": 7,
   "id": "16bf96bf",
   "metadata": {},
   "outputs": [
    {
     "name": "stderr",
     "output_type": "stream",
     "text": [
      "/Users/kareefullah/Desktop/Graspy_Workspace/graspologic/graspologic/models/edge_swaps.py:19: NumbaWarning: \u001b[1m\n",
      "Compilation is falling back to object mode WITH looplifting enabled because Function \"_edge_swap\" failed type inference due to: \u001b[1m\u001b[1mnon-precise type pyobject\u001b[0m\n",
      "\u001b[0m\u001b[1mDuring: typing of argument at /Users/kareefullah/Desktop/Graspy_Workspace/graspologic/graspologic/models/edge_swaps.py (23)\u001b[0m\n",
      "\u001b[1m\n",
      "File \"../../../Graspy_Workspace/graspologic/graspologic/models/edge_swaps.py\", line 23:\u001b[0m\n",
      "\u001b[1m    def _edge_swap(adjacency, edge_list):\n",
      "        <source elided>\n",
      "        # checks if there are at 2 edges in the graph\n",
      "\u001b[1m        if len(edge_list) < 2:\n",
      "\u001b[0m        \u001b[1m^\u001b[0m\u001b[0m\n",
      "\u001b[0m\n",
      "  @staticmethod\n"
     ]
    },
    {
     "name": "stdout",
     "output_type": "stream",
     "text": [
      "0.6492382360000022\n"
     ]
    },
    {
     "name": "stderr",
     "output_type": "stream",
     "text": [
      "/opt/miniconda3/envs/kullah/lib/python3.7/site-packages/numba/core/object_mode_passes.py:152: NumbaWarning: \u001b[1mFunction \"_edge_swap\" was compiled in object mode without forceobj=True.\n",
      "\u001b[1m\n",
      "File \"../../../Graspy_Workspace/graspologic/graspologic/models/edge_swaps.py\", line 21:\u001b[0m\n",
      "\u001b[1m    @nb.jit\n",
      "\u001b[1m    def _edge_swap(adjacency, edge_list):\n",
      "\u001b[0m    \u001b[1m^\u001b[0m\u001b[0m\n",
      "\u001b[0m\n",
      "  state.func_ir.loc))\n",
      "/opt/miniconda3/envs/kullah/lib/python3.7/site-packages/numba/core/object_mode_passes.py:162: NumbaDeprecationWarning: \u001b[1m\n",
      "Fall-back from the nopython compilation path to the object mode compilation path has been detected, this is deprecated behaviour.\n",
      "\n",
      "For more information visit https://numba.pydata.org/numba-doc/latest/reference/deprecation.html#deprecation-of-object-mode-fall-back-behaviour-when-using-jit\n",
      "\u001b[1m\n",
      "File \"../../../Graspy_Workspace/graspologic/graspologic/models/edge_swaps.py\", line 21:\u001b[0m\n",
      "\u001b[1m    @nb.jit\n",
      "\u001b[1m    def _edge_swap(adjacency, edge_list):\n",
      "\u001b[0m    \u001b[1m^\u001b[0m\u001b[0m\n",
      "\u001b[0m\n",
      "  state.func_ir.loc))\n"
     ]
    }
   ],
   "source": [
    "start_time = timeit.default_timer()\n",
    "Swapper = EdgeSwap(B)\n",
    "Swapper._do_some_edge_swaps()\n",
    "elapsed_time = timeit.default_timer()-start_time\n",
    "print(elapsed_time)"
   ]
  },
  {
   "cell_type": "code",
   "execution_count": null,
   "id": "0402597b",
   "metadata": {},
   "outputs": [],
   "source": []
  }
 ],
 "metadata": {
  "kernelspec": {
   "display_name": "Python 3",
   "language": "python",
   "name": "python3"
  },
  "language_info": {
   "codemirror_mode": {
    "name": "ipython",
    "version": 3
   },
   "file_extension": ".py",
   "mimetype": "text/x-python",
   "name": "python",
   "nbconvert_exporter": "python",
   "pygments_lexer": "ipython3",
   "version": "3.7.9"
  }
 },
 "nbformat": 4,
 "nbformat_minor": 5
}
