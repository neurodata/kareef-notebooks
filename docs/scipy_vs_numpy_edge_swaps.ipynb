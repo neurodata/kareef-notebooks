{
 "cells": [
  {
   "cell_type": "markdown",
   "id": "ef094b1f",
   "metadata": {},
   "source": [
    "# Comparing different edge swaps"
   ]
  },
  {
   "cell_type": "markdown",
   "id": "80d48c97",
   "metadata": {},
   "source": [
    "The motivation for this simulation is to compare the speed of two different implementations of degree preseving edge swaps: one using scipy and one using numba"
   ]
  },
  {
   "cell_type": "code",
   "execution_count": 16,
   "id": "c3dbc13f",
   "metadata": {},
   "outputs": [],
   "source": [
    "import timeit\n",
    "import numpy as np\n",
    "import pandas as pd\n",
    "import seaborn as sns\n",
    "import matplotlib.pyplot as plt\n",
    "from graspologic.utils import simple_edge_swap_setup, scipy_edge_swap_setup, simple_checks_swap, scipy_checks_swap"
   ]
  },
  {
   "cell_type": "code",
   "execution_count": 17,
   "id": "f76cf1db",
   "metadata": {},
   "outputs": [],
   "source": [
    "n = 1000\n",
    "p = np.log(n)/n\n",
    "num_swaps = 100000"
   ]
  },
  {
   "cell_type": "code",
   "execution_count": 18,
   "id": "fca4691a",
   "metadata": {},
   "outputs": [],
   "source": [
    "A = np.random.rand(n * n)\n",
    "A = [abs((int)(x + (1 - p)) - 1) for x in A]\n",
    "A = np.array(A).reshape(n, n)"
   ]
  },
  {
   "cell_type": "code",
   "execution_count": 19,
   "id": "3ed507bb",
   "metadata": {},
   "outputs": [
    {
     "name": "stdout",
     "output_type": "stream",
     "text": [
      "12.022615632000011\n"
     ]
    }
   ],
   "source": [
    "start_time = timeit.default_timer()\n",
    "B, edge_list = simple_edge_swap_setup(A)\n",
    "for _ in range(num_swaps):\n",
    "    B, edge_list = simple_checks_swap(B, edge_list)\n",
    "elapsed_time = timeit.default_timer()-start_time\n",
    "print(elapsed_time)"
   ]
  },
  {
   "cell_type": "code",
   "execution_count": 20,
   "id": "16bf96bf",
   "metadata": {},
   "outputs": [
    {
     "name": "stdout",
     "output_type": "stream",
     "text": [
      "21.34288698200001\n"
     ]
    }
   ],
   "source": [
    "start_time = timeit.default_timer()\n",
    "B, C = scipy_edge_swap_setup(A)\n",
    "for _ in range(num_swaps):\n",
    "    B, C = scipy_checks_swap(B, C)\n",
    "elapsed_time = timeit.default_timer()-start_time\n",
    "print(elapsed_time)"
   ]
  },
  {
   "cell_type": "code",
   "execution_count": null,
   "id": "0402597b",
   "metadata": {},
   "outputs": [],
   "source": []
  }
 ],
 "metadata": {
  "kernelspec": {
   "display_name": "Python 3",
   "language": "python",
   "name": "python3"
  },
  "language_info": {
   "codemirror_mode": {
    "name": "ipython",
    "version": 3
   },
   "file_extension": ".py",
   "mimetype": "text/x-python",
   "name": "python",
   "nbconvert_exporter": "python",
   "pygments_lexer": "ipython3",
   "version": "3.7.9"
  }
 },
 "nbformat": 4,
 "nbformat_minor": 5
}
