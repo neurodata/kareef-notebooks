{
 "cells": [
  {
   "cell_type": "code",
   "execution_count": 9,
   "id": "e49f63bf",
   "metadata": {},
   "outputs": [],
   "source": [
    "from graspologic.datasets import load_drosophila_right\n",
    "from graspologic.models import EdgeSwapper\n",
    "from graspologic.plot import heatmap\n",
    "from graspologic.utils import binarize, symmetrize\n",
    "from graspologic.simulations import er_np\n",
    "import networkx as nx\n",
    "from tqdm import tqdm\n",
    "from scipy.sparse import csr_matrix\n",
    "import matplotlib.pyplot as plt\n",
    "import numpy as np"
   ]
  },
  {
   "cell_type": "code",
   "execution_count": 10,
   "id": "b23f254b",
   "metadata": {},
   "outputs": [
    {
     "name": "stdout",
     "output_type": "stream",
     "text": [
      "-0.13211510523324294\n"
     ]
    }
   ],
   "source": [
    "#load the data\n",
    "adj, labels = load_drosophila_right(return_labels=True)\n",
    "adj = symmetrize(adj)\n",
    "adj = binarize(adj)\n",
    "orig_adj = nx.from_numpy_array(adj)\n",
    "assort_val = nx.degree_assortativity_coefficient(nx_adj)\n",
    "print(assort_val)"
   ]
  },
  {
   "cell_type": "code",
   "execution_count": 11,
   "id": "c1680e83",
   "metadata": {},
   "outputs": [
    {
     "name": "stdout",
     "output_type": "stream",
     "text": [
      "[[0. 0. 0. ... 0. 0. 0.]\n",
      " [0. 0. 0. ... 0. 0. 0.]\n",
      " [0. 0. 0. ... 0. 0. 0.]\n",
      " ...\n",
      " [0. 0. 0. ... 0. 0. 0.]\n",
      " [0. 0. 0. ... 0. 0. 0.]\n",
      " [0. 0. 0. ... 0. 0. 0.]]\n"
     ]
    }
   ],
   "source": [
    "n_samples = 100_000\n",
    "mixing_time = 1000\n",
    "assort_vals = []\n",
    "swapper = EdgeSwapper(adj)\n",
    "swapped_adj = np.zeros(adj.shape)"
   ]
  },
  {
   "cell_type": "code",
   "execution_count": 12,
   "id": "bd729c30",
   "metadata": {},
   "outputs": [
    {
     "name": "stderr",
     "output_type": "stream",
     "text": [
      "100%|█████████████████████████████████| 100000/100000 [00:17<00:00, 5604.30it/s]\n"
     ]
    }
   ],
   "source": [
    "for i in tqdm(range(0, n_samples)):\n",
    "    A, edge_list = swapper.swap_edges()\n",
    "    if i % mixing_time == 0:\n",
    "        new_G = nx.from_numpy_array(A)\n",
    "        assort_vals.append(nx.degree_assortativity_coefficient(new_G))\n",
    "        #save the first graph\n",
    "        if i / mixing_time == 1:\n",
    "            swapped_adj = new_G"
   ]
  },
  {
   "cell_type": "code",
   "execution_count": 18,
   "id": "7ddf56ed",
   "metadata": {},
   "outputs": [
    {
     "name": "stderr",
     "output_type": "stream",
     "text": [
      "/opt/miniconda3/envs/kullah/lib/python3.7/site-packages/seaborn/distributions.py:2619: FutureWarning: `distplot` is a deprecated function and will be removed in a future version. Please adapt your code to use either `displot` (a figure-level function with similar flexibility) or `histplot` (an axes-level function for histograms).\n",
      "  warnings.warn(msg, FutureWarning)\n"
     ]
    },
    {
     "data": {
      "text/plain": [
       "Text(0.5, 1.0, 'assortativity values for drosophila')"
      ]
     },
     "execution_count": 18,
     "metadata": {},
     "output_type": "execute_result"
    },
    {
     "data": {
      "image/png": "[encoded data removed]",
      "text/plain": [
       "<Figure size 432x288 with 1 Axes>"
      ]
     },
     "metadata": {
      "needs_background": "light"
     },
     "output_type": "display_data"
    }
   ],
   "source": [
    "import seaborn as sns\n",
    "ax = sns.distplot(assort_vals)\n",
    "ax.axvline(assort_val, color = \"green\")\n",
    "plt.xlabel(\"assoratativity value\")\n",
    "plt.title(\"assortativity values for drosophila\")"
   ]
  },
  {
   "cell_type": "code",
   "execution_count": 16,
   "id": "5882230a",
   "metadata": {},
   "outputs": [
    {
     "name": "stdout",
     "output_type": "stream",
     "text": [
      "True\n"
     ]
    }
   ],
   "source": [
    "print(list(orig_adj.degree()) == list(swapped_adj.degree()))"
   ]
  },
  {
   "cell_type": "code",
   "execution_count": null,
   "id": "55a4a26a",
   "metadata": {},
   "outputs": [],
   "source": []
  }
 ],
 "metadata": {
  "kernelspec": {
   "display_name": "Python 3 (ipykernel)",
   "language": "python",
   "name": "python3"
  },
  "language_info": {
   "codemirror_mode": {
    "name": "ipython",
    "version": 3
   },
   "file_extension": ".py",
   "mimetype": "text/x-python",
   "name": "python",
   "nbconvert_exporter": "python",
   "pygments_lexer": "ipython3",
   "version": "3.7.9"
  }
 },
 "nbformat": 4,
 "nbformat_minor": 5
}
